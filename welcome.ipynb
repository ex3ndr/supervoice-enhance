{
 "cells": [
  {
   "cell_type": "code",
   "execution_count": null,
   "id": "98054923-acec-4707-be8f-4466eb6030bf",
   "metadata": {},
   "outputs": [],
   "source": [
    "import torch"
   ]
  },
  {
   "cell_type": "code",
   "execution_count": null,
   "id": "88e90e8a-c69a-4622-8304-54b20a95acf3",
   "metadata": {},
   "outputs": [],
   "source": [
    "device = torch.device(\"cuda\" if torch.cuda.is_available() else \"cpu\")\n",
    "\n",
    "vocoder = torch.hub.load(repo_or_dir='ex3ndr/supervoice-vocoder', model='bigvsan')\n",
    "vocoder.to(device)\n",
    "vocoder.eval()\n",
    "\n",
    "flow = torch.hub.load(repo_or_dir='ex3ndr/supervoice-flow', model='flow', force_reload=True)\n",
    "flow.to(device)\n",
    "flow.eval()"
   ]
  },
  {
   "cell_type": "code",
   "execution_count": null,
   "id": "83cd8eb5-a948-4f67-a580-19d315385920",
   "metadata": {},
   "outputs": [],
   "source": []
  }
 ],
 "metadata": {
  "kernelspec": {
   "display_name": "Python 3 (ipykernel)",
   "language": "python",
   "name": "python3"
  },
  "language_info": {
   "codemirror_mode": {
    "name": "ipython",
    "version": 3
   },
   "file_extension": ".py",
   "mimetype": "text/x-python",
   "name": "python",
   "nbconvert_exporter": "python",
   "pygments_lexer": "ipython3",
   "version": "3.10.13"
  }
 },
 "nbformat": 4,
 "nbformat_minor": 5
}
