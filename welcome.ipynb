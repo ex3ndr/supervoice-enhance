{
 "cells": [
  {
   "cell_type": "code",
   "execution_count": 1,
   "id": "98054923-acec-4707-be8f-4466eb6030bf",
   "metadata": {},
   "outputs": [],
   "source": [
    "import torch"
   ]
  },
  {
   "cell_type": "code",
   "execution_count": 2,
   "id": "88e90e8a-c69a-4622-8304-54b20a95acf3",
   "metadata": {},
   "outputs": [
    {
     "name": "stderr",
     "output_type": "stream",
     "text": [
      "Using cache found in /home/steve/.cache/torch/hub/ex3ndr_supervoice-vocoder_master\n",
      "Downloading: \"https://github.com/ex3ndr/supervoice-flow/zipball/main\" to /home/steve/.cache/torch/hub/main.zip\n"
     ]
    },
    {
     "data": {
      "text/plain": [
       "AudioFlow(\n",
       "  (transformer_input): Linear(in_features=200, out_features=1024, bias=True)\n",
       "  (sinu_pos_emb): LearnedSinusoidalPosEmb()\n",
       "  (conv_embed): ConvPositionEmbed(\n",
       "    (dw_conv1d): Sequential(\n",
       "      (0): Conv1d(1024, 1024, kernel_size=(31,), stride=(1,), padding=(15,), groups=1024)\n",
       "      (1): GELU(approximate='none')\n",
       "    )\n",
       "  )\n",
       "  (transformer): Transformer(\n",
       "    (layers): ModuleList(\n",
       "      (0-23): 24 x AttentionBlock(\n",
       "        (attention_ln): RMSNorm()\n",
       "        (attention): Linear(in_features=1024, out_features=3072, bias=False)\n",
       "        (attention_output): Linear(in_features=1024, out_features=1024, bias=False)\n",
       "        (mlp_ln): RMSNorm()\n",
       "        (mlp_input): Linear(in_features=1024, out_features=4096, bias=True)\n",
       "        (mlp_output): Linear(in_features=4096, out_features=1024, bias=True)\n",
       "        (mlp_output_dropout): Dropout(p=0.1, inplace=False)\n",
       "      )\n",
       "    )\n",
       "    (skip_combiners): ModuleList(\n",
       "      (0-11): 12 x Linear(in_features=2048, out_features=1024, bias=True)\n",
       "    )\n",
       "    (output_norm): RMSNorm()\n",
       "  )\n",
       "  (prediction): Linear(in_features=1024, out_features=100, bias=True)\n",
       ")"
      ]
     },
     "execution_count": 2,
     "metadata": {},
     "output_type": "execute_result"
    }
   ],
   "source": [
    "device = torch.device(\"cuda\" if torch.cuda.is_available() else \"cpu\")\n",
    "\n",
    "vocoder = torch.hub.load(repo_or_dir='ex3ndr/supervoice-vocoder', model='bigvsan')\n",
    "vocoder.to(device)\n",
    "vocoder.eval()\n",
    "\n",
    "flow = torch.hub.load(repo_or_dir='ex3ndr/supervoice-flow', model='flow', force_reload=True)\n",
    "flow.to(device)\n",
    "flow.eval()"
   ]
  },
  {
   "cell_type": "code",
   "execution_count": null,
   "id": "83cd8eb5-a948-4f67-a580-19d315385920",
   "metadata": {},
   "outputs": [],
   "source": []
  }
 ],
 "metadata": {
  "kernelspec": {
   "display_name": "Python 3 (ipykernel)",
   "language": "python",
   "name": "python3"
  },
  "language_info": {
   "codemirror_mode": {
    "name": "ipython",
    "version": 3
   },
   "file_extension": ".py",
   "mimetype": "text/x-python",
   "name": "python",
   "nbconvert_exporter": "python",
   "pygments_lexer": "ipython3",
   "version": "3.10.13"
  }
 },
 "nbformat": 4,
 "nbformat_minor": 5
}
